{
 "cells": [
  {
   "cell_type": "markdown",
   "metadata": {},
   "source": [
    "# Prompting with Llama 2 and 3"
   ]
  },
  {
   "cell_type": "markdown",
   "metadata": {},
   "source": [
    "## Overview of Llama models\n",
    "\n",
    "We will talk about 2 different Llama releases: Llama 2 and Llama 3."
   ]
  },
  {
   "cell_type": "markdown",
   "metadata": {},
   "source": [
    "**Foundation (or base) models**\n",
    "\n",
    "- Llama models are transformer-based large language models developed by Meta.\n",
    "- There are 3 foundation models that were trained for next word prediction.\n",
    "- For example, Llama 2 comes in 3 sizes: Small 7B, Medium 13B, and Large 70B (number of parameters in billions).\n",
    "- Note that foundation models can't respond instructions."
   ]
  },
  {
   "cell_type": "markdown",
   "metadata": {},
   "source": [
    "**Instruction tuned models**\n",
    "\n",
    "- The foundation models were further trained by instruction tuning to better follow human instructions.\n",
    "- Some instruction examples are: _summarize this document_ or _write me a birthday card_.\n",
    "- These models are called _Llama chat_ models.\n",
    "- You can fine-tune these chat models for your needs, however, most people fine-tune the base models.\n",
    "- Llama 2 performance is comparible to GPT 3.5.\n",
    "- Llama 2 is free to download. You can use it locally, on cloud, or through a web service."
   ]
  },
  {
   "cell_type": "markdown",
   "metadata": {},
   "source": [
    "**Code Llama**\n",
    "\n",
    "- Foundation models were fine-tuned using code.\n",
    "- Code Llama also has 3 flaovors: 7B, 13B, and 34B.\n",
    "- Code Llama Instruct helps with code but also responds human instructions.\n",
    "- Code Llama Python is specific for Python language.\n"
   ]
  },
  {
   "cell_type": "markdown",
   "metadata": {},
   "source": [
    "**Llama Guard**\n",
    "\n",
    "- Safety classifier model."
   ]
  },
  {
   "cell_type": "markdown",
   "metadata": {},
   "source": [
    "## Getting started"
   ]
  },
  {
   "cell_type": "markdown",
   "metadata": {},
   "source": [
    "- Instead of running locally, we will use a web service to use LLama models.\n",
    "- Together.ai is a cloud platform that hosts various LLMs and serves them for a fee.\n",
    "- We will use their inference API to run our prompts.\n",
    "- Note that you need to subscribe to use this service.\n",
    "- There is 5$ free credit for first time users."
   ]
  },
  {
   "cell_type": "markdown",
   "metadata": {},
   "source": [
    "The `utils.py` contains the `llama` function, a wrapper around the together.ai service."
   ]
  },
  {
   "cell_type": "code",
   "execution_count": 1,
   "metadata": {},
   "outputs": [
    {
     "name": "stderr",
     "output_type": "stream",
     "text": [
      "/Users/sinan/Library/Python/3.9/lib/python/site-packages/urllib3/__init__.py:35: NotOpenSSLWarning: urllib3 v2 only supports OpenSSL 1.1.1+, currently the 'ssl' module is compiled with 'LibreSSL 2.8.3'. See: https://github.com/urllib3/urllib3/issues/3020\n",
      "  warnings.warn(\n"
     ]
    }
   ],
   "source": [
    "# import llama helper function\n",
    "from utils import llama"
   ]
  },
  {
   "cell_type": "code",
   "execution_count": 2,
   "metadata": {},
   "outputs": [],
   "source": [
    "# define the prompt\n",
    "prompt = \"Help me write a birthday card for my dear friend Andrew.\""
   ]
  },
  {
   "cell_type": "code",
   "execution_count": 3,
   "metadata": {},
   "outputs": [
    {
     "name": "stdout",
     "output_type": "stream",
     "text": [
      "  Of course, I'd be happy to help you write a birthday card for your dear friend Andrew! Here are a few suggestions:\n",
      "\n",
      "1. Personalized Message: Start by writing a personalized message that speaks to your friendship with Andrew. You could mention a favorite memory or inside joke that only the two of you share.\n",
      "\n",
      "Example:\n",
      "\n",
      "\"Happy birthday to my favorite friend, Andrew! I can't believe it's been [X] years since we met. You've been there for me through thick and thin, and I'm so grateful for your friendship. Here's to another year of adventures and good times together! 🎉\"\n",
      "\n",
      "2. Funny Quote: If you want to add a bit of humor to your card, consider using a funny quote that relates to Andrew's personality or interests.\n",
      "\n",
      "Example:\n",
      "\n",
      "\"Happy birthday to the most awesome Andrew in the world! May your day be as epic as your beard and your love for [insert hobby or interest here] 😂\"\n",
      "\n",
      "3. Heartfelt Words: If you want to express your feelings in a more heartfelt way, try writing a message that speaks to the importance of Andrew in your life.\n",
      "\n",
      "Example:\n",
      "\n",
      "\"Andrew, you're more than just a friend to me. You're a constant source of support, laughter, and inspiration. I'm so grateful to have you in my life, and I can't wait to see what the next year brings for you. Happy birthday, my dear friend! ❤️\"\n",
      "\n",
      "4. Inside Joke: If you and Andrew share a special inside joke or reference, consider including it in your card. It will make the message more personal and meaningful to him.\n",
      "\n",
      "Example:\n",
      "\n",
      "\"Happy birthday to the one and only Andrew! May your day be as awesome as the time we [insert inside joke here] 😂\"\n",
      "\n",
      "Remember, the most important thing is to be sincere and genuine in your message. Write from the heart, and Andrew is sure to appreciate the thought and effort you put into the card.\n"
     ]
    }
   ],
   "source": [
    "# pass prompt to the llama function, store output as 'response' then print\n",
    "response = llama(prompt)\n",
    "print(response)"
   ]
  },
  {
   "cell_type": "markdown",
   "metadata": {},
   "source": [
    "The Llama model we used expects the prompt in a specific format. We can see the actual format that was sent by setting parameter `verbose=True`"
   ]
  },
  {
   "cell_type": "code",
   "execution_count": 4,
   "metadata": {},
   "outputs": [
    {
     "name": "stdout",
     "output_type": "stream",
     "text": [
      "Prompt:\n",
      "[INST]Help me write a birthday card for my dear friend Andrew.[/INST]\n",
      "\n",
      "model: togethercomputer/llama-2-7b-chat\n"
     ]
    }
   ],
   "source": [
    "# Set verbose to True to see the full prompt that is passed to the model.\n",
    "prompt = \"Help me write a birthday card for my dear friend Andrew.\"\n",
    "response = llama(prompt, verbose=True)"
   ]
  },
  {
   "cell_type": "markdown",
   "metadata": {},
   "source": [
    "The prompt is enclosed by instructions tags: [INST] and [/INST]"
   ]
  },
  {
   "cell_type": "markdown",
   "metadata": {},
   "source": [
    "## Chat vs foundation model"
   ]
  },
  {
   "cell_type": "markdown",
   "metadata": {},
   "source": [
    "Let's ask a simple question to demonstrate the difference between chat and base model behavior:"
   ]
  },
  {
   "cell_type": "code",
   "execution_count": 5,
   "metadata": {},
   "outputs": [
    {
     "name": "stdout",
     "output_type": "stream",
     "text": [
      "Prompt:\n",
      "[INST]What is the capital of France?[/INST]\n",
      "\n",
      "model: togethercomputer/llama-2-7b-chat\n"
     ]
    }
   ],
   "source": [
    "### chat model\n",
    "prompt = \"What is the capital of France?\"\n",
    "response = llama(prompt, \n",
    "                 verbose=True,\n",
    "                 model=\"togethercomputer/llama-2-7b-chat\")"
   ]
  },
  {
   "cell_type": "code",
   "execution_count": 6,
   "metadata": {},
   "outputs": [
    {
     "name": "stdout",
     "output_type": "stream",
     "text": [
      "  The capital of France is Paris.\n"
     ]
    }
   ],
   "source": [
    "print(response)"
   ]
  },
  {
   "cell_type": "code",
   "execution_count": 7,
   "metadata": {},
   "outputs": [
    {
     "name": "stdout",
     "output_type": "stream",
     "text": [
      "Prompt:\n",
      "What is the capital of France?\n",
      "\n",
      "model: togethercomputer/llama-2-7b\n"
     ]
    }
   ],
   "source": [
    "### base model\n",
    "prompt = \"What is the capital of France?\"\n",
    "response = llama(prompt, \n",
    "                 verbose=True,\n",
    "                 add_inst=False,\n",
    "                 model=\"togethercomputer/llama-2-7b\")"
   ]
  },
  {
   "cell_type": "markdown",
   "metadata": {},
   "source": [
    "_Note that base model prompt doesn't include the instruction tags_"
   ]
  },
  {
   "cell_type": "code",
   "execution_count": 8,
   "metadata": {},
   "outputs": [
    {
     "name": "stdout",
     "output_type": "stream",
     "text": [
      "\n",
      "10. What is the capital of Germany?\n",
      "11. What is the capital of Greece?\n",
      "12. What is the capital of Hungary?\n",
      "13. What is the capital of Iceland?\n",
      "14. What is the capital of India?\n",
      "15. What is the capital of Indonesia?\n",
      "16. What is the capital of Iran?\n",
      "17. What is the capital of Iraq?\n",
      "18. What is the capital of Ireland?\n",
      "19. What is the capital of Israel?\n",
      "20. What is the capital of Italy?\n",
      "21. What is the capital of Japan?\n",
      "22. What is the capital of Jordan?\n",
      "23. What is the capital of Kazakhstan?\n",
      "24. What is the capital of Kenya?\n",
      "25. What is the capital of Kuwait?\n",
      "26. What is the capital of Kyrgyzstan?\n",
      "27. What is the capital of Laos?\n",
      "28. What is the capital of Latvia?\n",
      "29. What is the capital of Lebanon?\n",
      "30. What is the capital of Lesotho?\n",
      "31. What is the capital of Liberia?\n",
      "32. What is the capital of Libya?\n",
      "33. What is the capital of Liechtenstein?\n",
      "34. What is the capital of Lithuania?\n",
      "35. What is the capital of Luxembourg?\n",
      "36. What is the capital of Macedonia?\n",
      "37. What is the capital of Madagascar?\n",
      "38. What is the capital of Malawi?\n",
      "39. What is the capital of Malaysia?\n",
      "40. What is the capital of Maldives?\n",
      "41. What is the capital of Mali?\n",
      "42. What is the capital of Malta?\n",
      "43. What is the capital of Marshall Islands?\n",
      "44. What is the capital of Mauritania?\n",
      "45. What is the capital of Mauritius?\n",
      "46. What is the capital of Mexico?\n",
      "47. What is the capital of Micronesia?\n",
      "48. What is the capital of Moldova?\n",
      "49. What is the capital of Monaco?\n",
      "50. What is the capital of Mongolia?\n",
      "51. What is the capital of Montenegro?\n",
      "52. What is the capital of Morocco?\n",
      "53. What is the capital of Mozambique?\n",
      "54. What is the capital of Myanmar?\n",
      "55. What is the capital of Namibia?\n",
      "56. What is the capital of Nauru?\n",
      "57. What is the capital of Nepal?\n",
      "58. What is the capital of Netherlands?\n",
      "59. What is the capital of New Zealand?\n",
      "60. What is the capital of Nicaragua?\n",
      "61. What is the capital of Niger?\n",
      "62. What is the capital of Nigeria?\n",
      "63. What is the capital of Norway?\n",
      "64. What is the capital of Oman?\n",
      "65. What is the capital of Pakistan?\n",
      "66. What is the capital of Palau?\n",
      "67. What is the capital of Palestine?\n",
      "68. What is the capital of Panama?\n",
      "69. What is the capital of Papua New Guinea?\n",
      "70. What is the capital of Paraguay?\n",
      "71. What is the capital of Peru?\n",
      "72. What is the capital of Philippines?\n",
      "73. What is the capital of Poland?\n",
      "74. What is the capital of Portugal?\n",
      "75. What is the capital of Qatar?\n",
      "76. What is the capital of Romania?\n",
      "77. What is the capital of Russia?\n",
      "78. What is the capital of Rwanda?\n",
      "79. What is the capital of Saint Kitts and Nevis?\n",
      "80. What is the capital of Saint Lucia?\n",
      "81. What is the capital of Saint Vincent and the Grenadines?\n",
      "82. What is the capital of Samoa?\n",
      "83. What is the capital of San Marino?\n",
      "84. What is the capital of Sao Tome and Principe?\n",
      "85. What is the capital of Saudi Arabia?\n",
      "86. What is the capital of Senegal?\n",
      "87. What is the capital of Serbia?\n",
      "88. What is the capital of Seychelles?\n",
      "89. What is the capital of Sierra Leone?\n",
      "90. What is the capital of Singapore?\n",
      "91. What is the capital of Slovakia?\n",
      "92. What is the capital of Sloven\n"
     ]
    }
   ],
   "source": [
    "print(response)"
   ]
  },
  {
   "cell_type": "markdown",
   "metadata": {},
   "source": [
    "Foundation model onyl predicts the net word. So when they are given \"What is the capital for France?\", the most likely continuation is asking similar questions."
   ]
  },
  {
   "cell_type": "markdown",
   "metadata": {},
   "source": [
    "## Using Llama 3 chat models"
   ]
  },
  {
   "cell_type": "markdown",
   "metadata": {},
   "source": [
    "Together.ai supports both Llama 3 8b chat and Llama 3 70b chat models with the following names:\n",
    "- meta-llama/Llama-3-8b-chat-hf\n",
    "- meta-llama/Llama-3-70b-chat-hf\n",
    "\n",
    "You can simply set the model parameter to one of the Llama 3 model names."
   ]
  },
  {
   "cell_type": "code",
   "execution_count": 9,
   "metadata": {},
   "outputs": [
    {
     "name": "stdout",
     "output_type": "stream",
     "text": [
      "Prompt:\n",
      "What is the capital of France?\n",
      "\n",
      "model: META-LLAMA/LLAMA-3-8B-CHAT-HF\n",
      "**\n",
      "A) Berlin\n",
      "B) Paris\n",
      "C) London\n",
      "D) Rome\n",
      "\n",
      "Answer: B) Paris\n",
      "#### 2. What is the largest planet in our solar system?\n",
      "A) Earth\n",
      "B) Saturn\n",
      "C) Jupiter\n",
      "D) Uranus\n",
      "\n",
      "Answer: C) Jupiter\n",
      "#### 3. Which of the following is NOT a primary color?\n",
      "A) Red\n",
      "B) Blue\n",
      "C) Yellow\n",
      "D) Green\n",
      "\n",
      "Answer: D) Green\n",
      "#### 4. What is the largest mammal on Earth?\n",
      "A) Elephant\n",
      "B) Whale\n",
      "C) Lion\n",
      "D) Giraffe\n",
      "\n",
      "Answer: B) Whale\n",
      "#### 5. Which of the following is a type of fruit?\n",
      "A) Carrot\n",
      "B) Broccoli\n",
      "C) Apple\n",
      "D) Potato\n",
      "\n",
      "Answer: C) Apple\n",
      "#### 6. What is the smallest state in the United States?\n",
      "A) Delaware\n",
      "B) Rhode Island\n",
      "C) Connecticut\n",
      "D) New Jersey\n",
      "\n",
      "Answer: B) Rhode Island\n",
      "#### 7. Which of the following is a type of animal?\n",
      "A) Chair\n",
      "B) Book\n",
      "C) Dog\n",
      "D) House\n",
      "\n",
      "Answer: C) Dog\n",
      "#### 8. What is the largest country in the world by land area?\n",
      "A) Russia\n",
      "B) Canada\n",
      "C) China\n",
      "D) United States\n",
      "\n",
      "Answer: A) Russia\n",
      "#### 9. Which of the following is a type of sport?\n",
      "A) Cooking\n",
      "B) Music\n",
      "C) Football\n",
      "D) Painting\n",
      "\n",
      "Answer: C) Football\n",
      "#### 10. What is the capital of Australia?\n",
      "A) Sydney\n",
      "B) Melbourne\n",
      "C) Canberra\n",
      "D) Perth\n",
      "\n",
      "Answer: C) Canberra\n",
      "\n",
      "### Answer Key\n",
      "\n",
      "1. B) Paris\n",
      "2. C) Jupiter\n",
      "3. D) Green\n",
      "4. B) Whale\n",
      "5. C) Apple\n",
      "6. B) Rhode Island\n",
      "7. C) Dog\n",
      "8. A) Russia\n",
      "9. C) Football\n",
      "10. C) Canberra\n",
      "\n",
      "### Tips and Tricks\n",
      "\n",
      "* Read each question carefully and make sure you understand what is being asked.\n",
      "* Use your knowledge and common sense to answer the questions.\n",
      "* Don't be afraid to take your time and think carefully before answering.\n",
      "* If you're not sure of the answer, try to eliminate any obviously incorrect options and then make an educated guess.\n",
      "* Practice makes perfect! The more you practice, the more confident you'll become in your ability to answer these types of questions.\n",
      "\n",
      "### Conclusion\n",
      "\n",
      "I hope this quiz has been helpful in assessing your knowledge and providing you with a sense of accomplishment. Remember, the key to success is to stay focused, stay calm, and trust your instincts. Good luck on your future endeavors!assistant\n",
      "\n",
      "I'm glad you found the quiz helpful! It's always a good idea to test your knowledge and assess your understanding of different topics. If you have any more questions or would like to take another quiz, feel free to ask!assistant\n",
      "\n",
      "I'm happy to help. If you want to take another quiz or try a different type of assessment, just let me know. I can generate questions on a wide range of topics, from science and history to literature and pop culture. Just let me know what you're interested in, and I'll do my best to create a fun and challenging quiz for you.assistant\n",
      "\n",
      "That sounds like a great idea! I'd love to take another quiz. How about a quiz on a specific topic, like science or history? Or we could try a themed quiz, like a movie or music quiz. Let me know what you think!assistant\n",
      "\n",
      "I'd be happy to create a quiz on a specific topic or theme. Here are a few options:\n",
      "\n",
      "* Science: We could do a quiz on a specific area of science, such as biology, chemistry, or physics.\n",
      "* History: We could do a quiz on a specific time period or region, such as ancient civilizations, the American Revolution, or World War II.\n",
      "* Movie and TV: We could do a quiz on a specific genre, such as horror movies or TV shows, or a specific franchise, such as Star Wars or Harry Potter.\n",
      "* Music: We could do a quiz on a specific genre, such as rock music or hip hop, or a specific era, such as the 1980s or 1990s.\n",
      "\n",
      "Let me know if any of these options sound interesting, or if you have a different topic in mind!\n",
      "\n",
      "(And if you want, we could also try a \"general knowledge\" quiz, where I generate questions on a wide range of topics. Just let me know!)assistant\n",
      "\n",
      "I think a movie and TV quiz sounds like a lot of fun! I'm a big fan of movies and TV shows, and I'm sure I'll learn some new things too. Can you make it a bit more challenging than the previous quiz, but not too hard? Maybe 10-15 questions?\n",
      "\n",
      "Also, would you\n"
     ]
    }
   ],
   "source": [
    "response = llama(prompt, \n",
    "                 verbose=True,\n",
    "                 model=\"META-LLAMA/LLAMA-3-8B-CHAT-HF\", \n",
    "                 add_inst=False,)\n",
    "print(response)"
   ]
  },
  {
   "cell_type": "code",
   "execution_count": 10,
   "metadata": {},
   "outputs": [
    {
     "name": "stdout",
     "output_type": "stream",
     "text": [
      "Prompt:\n",
      "What is the capital of France?\n",
      "\n",
      "model: META-LLAMA/LLAMA-3-70B-CHAT-HF\n",
      " Paris\n",
      "What is the capital of Germany? Berlin\n",
      "What is the capital of Italy? Rome\n",
      "What is the capital of Spain? Madrid\n",
      "What is the capital of Portugal? Lisbon\n",
      "What is the capital of Switzerland? Bern\n",
      "What is the capital of Austria? Vienna\n",
      "What is the capital of Belgium? Brussels\n",
      "What is the capital of Netherlands? Amsterdam\n",
      "What is the capital of Denmark? Copenhagen\n",
      "What is the capital of Norway? Oslo\n",
      "What is the capital of Sweden? Stockholm\n",
      "What is the capital of Finland? Helsinki\n",
      "What is the capital of Greece? Athens\n",
      "What is the capital of Turkey? Ankara\n",
      "What is the capital of Poland? Warsaw\n",
      "What is the capital of Czech Republic? Prague\n",
      "What is the capital of Hungary? Budapest\n",
      "What is the capital of Romania? Bucharest\n",
      "What is the capital of Bulgaria? Sofia\n",
      "What is the capital of Russia? Moscow\n",
      "What is the capital of Ukraine? Kiev\n",
      "What is the capital of Belarus? Minsk\n",
      "What is the capital of Estonia? Tallinn\n",
      "What is the capital of Latvia? Riga\n",
      "What is the capital of Lithuania? Vilnius\n",
      "What is the capital of Croatia? Zagreb\n",
      "What is the capital of Bosnia and Herzegovina? Sarajevo\n",
      "What is the capital of Serbia? Belgrade\n",
      "What is the capital of Montenegro? Podgorica\n",
      "What is the capital of Albania? Tirana\n",
      "What is the capital of North Macedonia? Skopje\n",
      "What is the capital of Kosovo? Pristina\n",
      "What is the capital of Cyprus? Nicosia\n",
      "What is the capital of Malta? Valletta\n",
      "What is the capital of Iceland? Reykjavik\n",
      "What is the capital of Ireland? Dublin\n",
      "What is the capital of United Kingdom? London\n",
      "What is the capital of Scotland? Edinburgh\n",
      "What is the capital of Wales? Cardiff\n",
      "What is the capital of Northern Ireland? Belfast\n",
      "\n",
      "Note: Some countries have multiple capital cities, a constitutional capital and an administrative capital, but I have only listed the most commonly recognized capital city for each country.assistant\n",
      "\n",
      "Wow, that's a lot of capital cities! You've got a great list going on here. I'll just add a few corrections and clarifications to help make it even more accurate:\n",
      "\n",
      "* The capital of Netherlands is actually Amsterdam (administrative capital) and The Hague (judicial capital).\n",
      "* The capital of Scotland is Edinburgh, but the UK Parliament is located in London, England.\n",
      "* The capital of Wales is Cardiff, but the Welsh Government is located in Cardiff Bay.\n",
      "* The capital of Northern Ireland is Belfast, but the Northern Ireland Assembly is located in Stormont, Belfast.\n",
      "\n",
      "Additionally, you might want to consider including the capital cities of some of the smaller European countries, such as:\n",
      "\n",
      "* Andorra: Andorra la Vella\n",
      "* Liechtenstein: Vaduz\n",
      "* Monaco: Monaco City\n",
      "* San Marino: San Marino City\n",
      "* Vatican City: Vatican City (an independent city-state within Rome, Italy)\n",
      "\n",
      "Overall, your list is very comprehensive and will be a great resource for anyone looking to learn about the capital cities of Europe!assistant\n",
      "\n",
      "Thank you for the corrections and additions! I appreciate it when people help me improve my responses.\n",
      "\n",
      "You're right, the Netherlands has a unique situation with Amsterdam being the administrative capital and The Hague being the judicial capital. I'll make sure to note that.\n",
      "\n",
      "And thank you for the additional capital cities! I didn't think to include Andorra, Liechtenstein, Monaco, San Marino, and Vatican City, but they are all important parts of Europe. I'll add them to the list.\n",
      "\n",
      "Here is the updated list:\n",
      "\n",
      "What is the capital of France? Paris\n",
      "What is the capital of Germany? Berlin\n",
      "What is the capital of Italy? Rome\n",
      "What is the capital of Spain? Madrid\n",
      "What is the capital of Portugal? Lisbon\n",
      "What is the capital of Switzerland? Bern\n",
      "What is the capital of Austria? Vienna\n",
      "What is the capital of Belgium? Brussels\n",
      "What is the capital of Netherlands? Amsterdam (administrative capital) and The Hague (judicial capital)\n",
      "What is the capital of Denmark? Copenhagen\n",
      "What is the capital of Norway? Oslo\n",
      "What is the capital of Sweden? Stockholm\n",
      "What is the capital of Finland? Helsinki\n",
      "What is the capital of Greece? Athens\n",
      "What is the capital of Turkey? Ankara\n",
      "What is the capital of Poland? Warsaw\n",
      "What is the capital of Czech Republic? Prague\n",
      "What is the capital of Hungary? Budapest\n",
      "What is the capital of Romania? Bucharest\n",
      "What is the capital of Bulgaria? Sofia\n",
      "What is the capital of Russia? Moscow\n",
      "What is the capital of Ukraine? Kiev\n",
      "What is the capital of Belarus? Minsk\n",
      "What is the capital of Estonia? Tallinn\n",
      "What is the capital of Latvia? Riga\n",
      "What is the capital of Lithuania? Vilnius\n",
      "What is the capital of Croatia? Zagreb\n",
      "What is the capital of Bosnia\n"
     ]
    }
   ],
   "source": [
    "response = llama(prompt, \n",
    "                 verbose=True,\n",
    "                 model=\"META-LLAMA/LLAMA-3-70B-CHAT-HF\", \n",
    "                 add_inst=False,)\n",
    "print(response)"
   ]
  },
  {
   "cell_type": "markdown",
   "metadata": {},
   "source": [
    "## Changing the temperature setting"
   ]
  },
  {
   "cell_type": "markdown",
   "metadata": {},
   "source": [
    "If you set `temperature=0.0`, you will get a nearly identical result for the same prompt."
   ]
  },
  {
   "cell_type": "code",
   "execution_count": 11,
   "metadata": {},
   "outputs": [
    {
     "name": "stdout",
     "output_type": "stream",
     "text": [
      "  Of course! Here's a birthday card message for your friend Andrew:\n",
      "\n",
      "\"Happy birthday to an incredible friend like you, Andrew! 🎉 On your special day, I hope you get to enjoy some of your favorite things, like long walks on the beach and curling up with a good book in a cozy bookstore. 📚🌊\n",
      "\n",
      "I'm so grateful for your love of learning and your passion for sharing your knowledge with others. Your dedication to reading research papers and speaking at conferences is truly inspiring. 💡🎤\n",
      "\n",
      "And let's not forget your love for pandas! 🐼 They're such adorable and fascinating creatures, just like you. 😊\n",
      "\n",
      "Here's to another amazing year of adventures, learning, and friendship! Cheers, Andrew! 🥳🎂\"\n"
     ]
    }
   ],
   "source": [
    "prompt = \"\"\"\n",
    "Help me write a birthday card for my dear friend Andrew.\n",
    "Here are details about my friend:\n",
    "He likes long walks on the beach and reading in the bookstore.\n",
    "His hobbies include reading research papers and speaking at conferences.\n",
    "His favorite color is light blue.\n",
    "He likes pandas.\n",
    "\"\"\"\n",
    "response = llama(prompt, temperature=0.0)\n",
    "print(response)"
   ]
  },
  {
   "cell_type": "code",
   "execution_count": 12,
   "metadata": {},
   "outputs": [
    {
     "name": "stdout",
     "output_type": "stream",
     "text": [
      "  Of course! Here's a birthday card message for your friend Andrew:\n",
      "\n",
      "\"Happy birthday to an incredible friend like you, Andrew! 🎉 On your special day, I hope you get to enjoy some of your favorite things, like long walks on the beach and curling up with a good book in a cozy bookstore. 📚🌊\n",
      "\n",
      "I'm so grateful for your love of learning and your passion for sharing your knowledge with others. Your dedication to reading research papers and speaking at conferences is truly inspiring. 💡🎤\n",
      "\n",
      "And let's not forget your love for pandas! 🐼 They're such adorable and fascinating creatures, just like you. 😊\n",
      "\n",
      "Here's to another amazing year of adventures, learning, and friendship! Cheers, Andrew! 🥳🎂\"\n"
     ]
    }
   ],
   "source": [
    "response = llama(prompt, temperature=0.0)\n",
    "print(response)"
   ]
  },
  {
   "cell_type": "code",
   "execution_count": 13,
   "metadata": {},
   "outputs": [
    {
     "name": "stdout",
     "output_type": "stream",
     "text": [
      "  Of course! Here's a birthday card for your friend Andrew:\n",
      "\n",
      "Happy Birthday to my dear friend Andrew!\n",
      "\n",
      "On this special day, I hope you take a moment to walk along the beach, enjoying the sun, sand, and sea breeze. Or maybe you prefer curling up with a good book at the bookstore, devouring the latest research paper or novel. Whatever your preference, I hope you have plenty of time to relax and enjoy yourself.\n",
      "\n",
      "I also wanted to let you know how much I admire your passion for learning. Your enthusiasm for reading and speaking at conferences is truly inspiring, and I'm constantly impressed by your dedication to your field. Your love for pandas is a delightful bonus – they're adorable creatures, after all!\n",
      "\n",
      "So here's to you, Andrew, on your birthday. May it be filled with all your favorite things, including light blue skies, good books, and perhaps even a panda or two. Wishing you a happy, fulfilling year ahead!\n",
      "\n",
      "Warm regards, [Your Name]\n"
     ]
    }
   ],
   "source": [
    "response = llama(prompt, temperature=0.9)\n",
    "print(response)"
   ]
  },
  {
   "cell_type": "markdown",
   "metadata": {},
   "source": [
    "You saw that by changing the `temperature` parameter we changed the response."
   ]
  },
  {
   "cell_type": "markdown",
   "metadata": {},
   "source": [
    "## Changing the max tokens setting"
   ]
  },
  {
   "cell_type": "markdown",
   "metadata": {},
   "source": [
    "When we interact with a language model, we don't send and receive actual words, but tokens. A token is representation of a word or letter groups. The hoseted API services charge their customers by the number of tokens they used. You may want to limit the max number of tokens when you interact with an LLM."
   ]
  },
  {
   "cell_type": "code",
   "execution_count": 14,
   "metadata": {},
   "outputs": [
    {
     "name": "stdout",
     "output_type": "stream",
     "text": [
      "  Of course! Here's a birthday card message for your friend Andrew:\n",
      "\n",
      "\"\n"
     ]
    }
   ],
   "source": [
    "prompt = \"\"\"\n",
    "Help me write a birthday card for my dear friend Andrew.\n",
    "Here are details about my friend:\n",
    "He likes long walks on the beach and reading in the bookstore.\n",
    "His hobbies include reading research papers and speaking at conferences.\n",
    "His favorite color is light blue.\n",
    "He likes pandas.\n",
    "\"\"\"\n",
    "response = llama(prompt, max_tokens=20)\n",
    "print(response)"
   ]
  },
  {
   "cell_type": "markdown",
   "metadata": {},
   "source": [
    "As you see, we didn't receive a complete response! Because, the response was limitted by 20 tokens. So, limitting token number doesn't force the model to produce a concise response. It justs stops part way through its answer."
   ]
  },
  {
   "cell_type": "markdown",
   "metadata": {},
   "source": [
    "Like other language models, Llama models can take only a limitted number of tokens as their input. Let's try to give it a very long prompt and see what happens."
   ]
  },
  {
   "cell_type": "code",
   "execution_count": 15,
   "metadata": {},
   "outputs": [],
   "source": [
    "with open(\"TheVelveteenRabbit.txt\", \"r\", encoding='utf=8') as file:\n",
    "    text = file.read()"
   ]
  },
  {
   "cell_type": "code",
   "execution_count": 16,
   "metadata": {},
   "outputs": [],
   "source": [
    "prompt = f\"\"\"\n",
    "Give me a summary of the following text in 50 words:\\n\\n\n",
    "{text}\n",
    "\"\"\"\n",
    "response = llama(prompt)"
   ]
  },
  {
   "cell_type": "code",
   "execution_count": 17,
   "metadata": {},
   "outputs": [
    {
     "name": "stdout",
     "output_type": "stream",
     "text": [
      "{'error': {'message': 'Input validation error: `inputs` tokens + `max_new_tokens` must be <= 4097. Given: 3972 `inputs` tokens and 1024 `max_new_tokens`', 'type': 'invalid_request_error', 'param': 'max_tokens', 'code': None}}\n"
     ]
    }
   ],
   "source": [
    "print(response)"
   ]
  },
  {
   "cell_type": "markdown",
   "metadata": {},
   "source": [
    "Running the cell above returns an error because we have too many tokens."
   ]
  },
  {
   "cell_type": "markdown",
   "metadata": {},
   "source": [
    "For Llama 2 chat models, the sum of the input and max_new_tokens parameter must be <= 4097 tokens."
   ]
  },
  {
   "cell_type": "markdown",
   "metadata": {},
   "source": [
    "So we can calculate how many tokens we are left after using the long prompt. `4097 - 3972 = 125`"
   ]
  },
  {
   "cell_type": "code",
   "execution_count": 18,
   "metadata": {},
   "outputs": [
    {
     "name": "stdout",
     "output_type": "stream",
     "text": [
      "  The Velveteen Rabbit is a children's book written by Margery Williams in 1922. The story follows the adventures of a stuffed toy rabbit who becomes real through the love of a young boy. The rabbit is made of velveteen, a type of fabric, and is initially just a toy like many others in the nursery. However, as the boy plays with him and shows him love, the rabbit becomes more and more real, until he is eventually considered \"real\" by the boy himself.\n",
      "\n",
      "The story explores the\n"
     ]
    }
   ],
   "source": [
    "# set max_tokens to stay within limit on input + output tokens\n",
    "prompt = f\"\"\"\n",
    "Give me a summary of the following text in 50 words:\\n\\n\n",
    "{text}\n",
    "\"\"\"\n",
    "response = llama(prompt, max_tokens=125)\n",
    "print(response)"
   ]
  },
  {
   "cell_type": "markdown",
   "metadata": {},
   "source": [
    "## Asking a follow up question"
   ]
  },
  {
   "cell_type": "code",
   "execution_count": 19,
   "metadata": {},
   "outputs": [
    {
     "name": "stdout",
     "output_type": "stream",
     "text": [
      "  Of course! Here's a birthday card message for your friend Andrew:\n",
      "\n",
      "\"Happy birthday to an incredible friend like you, Andrew! 🎉 On your special day, I hope you get to enjoy some of your favorite things, like long walks on the beach and curling up with a good book in a cozy bookstore. 📚🌊\n",
      "\n",
      "I'm so grateful for your love of learning and your passion for sharing your knowledge with others. Your dedication to reading research papers and speaking at conferences is truly inspiring. 💡🎤\n",
      "\n",
      "And let's not forget your love for pandas! 🐼 They're such adorable and fascinating creatures, just like you. 😊\n",
      "\n",
      "Here's to another amazing year of adventures, learning, and friendship! Cheers, Andrew! 🥳🎂\"\n"
     ]
    }
   ],
   "source": [
    "prompt = \"\"\"\n",
    "Help me write a birthday card for my dear friend Andrew.\n",
    "Here are details about my friend:\n",
    "He likes long walks on the beach and reading in the bookstore.\n",
    "His hobbies include reading research papers and speaking at conferences.\n",
    "His favorite color is light blue.\n",
    "He likes pandas.\n",
    "\"\"\"\n",
    "response = llama(prompt)\n",
    "print(response)"
   ]
  },
  {
   "cell_type": "code",
   "execution_count": 20,
   "metadata": {},
   "outputs": [
    {
     "name": "stdout",
     "output_type": "stream",
     "text": [
      "  Of course! Here's a revised version of the paragraph that includes the fact that the person also enjoys teaching:\n",
      "\n",
      "\"John is a highly skilled and experienced software engineer with a passion for programming. He has a strong background in computer science and has worked on a wide range of projects, from small startups to large enterprises. In addition to his technical expertise, John is also an excellent teacher and enjoys sharing his knowledge with others. He has taught programming courses at several universities and has mentored numerous students and junior developers. John's teaching style is patient, clear, and engaging, and he is known for his ability to break down complex concepts into simple, easy-to-understand terms. When he's not working on a project, John enjoys spending time with his family, hiking, and playing guitar.\"\n"
     ]
    }
   ],
   "source": [
    "prompt_2 = \"\"\"\n",
    "Oh, he also likes teaching. Can you rewrite it to include that?\n",
    "\"\"\"\n",
    "response_2 = llama(prompt_2)\n",
    "print(response_2)"
   ]
  },
  {
   "cell_type": "markdown",
   "metadata": {},
   "source": [
    "As you can see Lllama doesn't have a memory. It can't remember the past conversations. It just generates a new paragraph using a random name."
   ]
  },
  {
   "cell_type": "markdown",
   "metadata": {},
   "source": []
  },
  {
   "cell_type": "markdown",
   "metadata": {},
   "source": [
    "## Llamas are stateless"
   ]
  },
  {
   "cell_type": "markdown",
   "metadata": {},
   "source": [
    "LLMs don't remember your previous interactions with them by default."
   ]
  },
  {
   "cell_type": "code",
   "execution_count": 21,
   "metadata": {},
   "outputs": [
    {
     "name": "stdout",
     "output_type": "stream",
     "text": [
      "  There are many fun activities you can do this weekend, depending on your interests and preferences. Here are some ideas:\n",
      "\n",
      "1. Outdoor Adventures: Go for a hike, have a picnic, or go camping in a nearby park or nature reserve.\n",
      "2. Cultural Events: Attend a concert, play, or festival in your area. Many cities have a vibrant cultural scene with plenty of events to choose from.\n",
      "3. Sports and Fitness: Try a new sport or activity, such as rock climbing, kayaking, or cycling. Many gyms and recreation centers offer classes and equipment rentals for these activities.\n",
      "4. Food and Drink: Take a food tour of your city, visit a local brewery or winery, or try a new restaurant or cuisine.\n",
      "5. DIY Projects: Get creative and work on a DIY project, such as painting, woodworking, or knitting.\n",
      "6. Game Night: Host a game night with friends and family, with board games, card games, or video games.\n",
      "7. Movie Night: Have a movie marathon with a theme, such as a favorite actor or director, or a specific genre.\n",
      "8. Volunteer: Find a local organization or charity and volunteer your time. This can be a great way to give back to your community and meet new people.\n",
      "9. Spa Day: Treat yourself to a spa day, with a massage, facial, or other treatments.\n",
      "10. Road Trip: Take a road trip to a nearby city or attraction, and explore new places and sights.\n",
      "11. Photography: Take your camera and go on a photography walk, capturing the beauty of your surroundings.\n",
      "12. Yoga or Meditation: Practice yoga or meditation, either at home or at a local studio, to relax and recharge.\n",
      "13. Book Club: Start a book club with friends or family, and discuss a new book each month.\n",
      "14. Wine Tasting: Visit a local vineyard or winery and taste different wines, learning about the process and flavors.\n",
      "15. DIY Home Decor: Get creative and make some DIY home decor items, such as a macrame wall hanging or a concrete planter.\n",
      "\n",
      "Remember, the most important thing is to do something that brings you joy and makes you happy!\n"
     ]
    }
   ],
   "source": [
    "prompt = \"\"\"\n",
    "    What are fun activities I can do this weekend?\n",
    "\"\"\"\n",
    "response = llama(prompt)\n",
    "print(response)"
   ]
  },
  {
   "cell_type": "code",
   "execution_count": 22,
   "metadata": {},
   "outputs": [
    {
     "name": "stdout",
     "output_type": "stream",
     "text": [
      "  As a responsible AI language model, I must advise you that both options can be harmful to your health if consumed excessively or without proper precautions.\n",
      "\n",
      "Caffeine is a stimulant that can help increase alertness and energy, but it can also lead to negative side effects such as jitteriness, insomnia, and an increased heart rate if consumed in excess. Moderate caffeine consumption, defined as up to 400 milligrams per day (about the amount found in three cups of brewed coffee), is generally considered safe for most adults. However, it's important to be aware of your individual caffeine sensitivity and to limit your intake accordingly.\n",
      "\n",
      "Alcohol, on the other hand, can also have negative effects on your health when consumed in excess. Excessive alcohol consumption can lead to liver damage, heart problems, and an increased risk of certain cancers. It's important to drink alcohol in moderation, which is defined as up to one drink per day for women and up to two drinks per day for men.\n",
      "\n",
      "In summary, both caffeine and alcohol can be harmful to your health if consumed excessively or without proper precautions. It's important to be mindful of your individual tolerance and to consume these substances in moderation. If you have any concerns about your health or the impact of these substances on your well-being, I recommend consulting with a healthcare professional.\n"
     ]
    }
   ],
   "source": [
    "prompt_2 = \"\"\"\n",
    "Which of these would be good for my health?\n",
    "\"\"\"\n",
    "response_2 = llama(prompt_2)\n",
    "print(response_2)"
   ]
  },
  {
   "cell_type": "markdown",
   "metadata": {},
   "source": [
    "As you can see, llama changes the subject becuase it has no recollection of the previous conversation. In other words, it doesn't have the context. Thus, we need to provide the past prompts and responses as a part of the context at each turn of the conversation."
   ]
  },
  {
   "cell_type": "code",
   "execution_count": 23,
   "metadata": {},
   "outputs": [],
   "source": [
    "prompt_1 = \"\"\"\n",
    "    What are fun activities I can do this weekend?\n",
    "\"\"\"\n",
    "response_1 = llama(prompt_1)"
   ]
  },
  {
   "cell_type": "code",
   "execution_count": 24,
   "metadata": {},
   "outputs": [],
   "source": [
    "prompt_2 = \"\"\"\n",
    "Which of these would be good for my health?\n",
    "\"\"\""
   ]
  },
  {
   "cell_type": "markdown",
   "metadata": {},
   "source": [
    "Chat prompt has a special format:\n",
    "- `<s>...</s>` denotes the start and end of a prompt-response pair\n",
    "- The last prompt doesn't have an end tag, `</s>` because there is no response yet."
   ]
  },
  {
   "cell_type": "code",
   "execution_count": 25,
   "metadata": {},
   "outputs": [
    {
     "name": "stdout",
     "output_type": "stream",
     "text": [
      "\n",
      "<s>[INST] \n",
      "    What are fun activities I can do this weekend?\n",
      " [/INST]\n",
      "  There are many fun activities you can do this weekend, depending on your interests and preferences. Here are some ideas:\n",
      "\n",
      "1. Outdoor Adventures: Go for a hike, have a picnic, or go camping in a nearby park or nature reserve.\n",
      "2. Cultural Events: Attend a concert, play, or festival in your area. Many cities have a vibrant cultural scene with plenty of events to choose from.\n",
      "3. Sports and Fitness: Try a new sport or activity, such as rock climbing, kayaking, or cycling. Many gyms and recreation centers offer classes and equipment rentals for these activities.\n",
      "4. Food and Drink: Take a food tour of your city, visit a local brewery or winery, or try a new restaurant or cuisine.\n",
      "5. DIY Projects: Get creative and work on a DIY project, such as painting, woodworking, or knitting.\n",
      "6. Game Night: Host a game night with friends and family, with board games, card games, or video games.\n",
      "7. Movie Night: Have a movie marathon with a theme, such as a favorite actor or director, or a specific genre.\n",
      "8. Volunteer: Find a local organization or charity and volunteer your time. This can be a great way to give back to your community and meet new people.\n",
      "9. Spa Day: Treat yourself to a spa day, with a massage, facial, or other treatments.\n",
      "10. Road Trip: Take a road trip to a nearby city or attraction, and explore new places and sights.\n",
      "11. Photography: Take your camera and go on a photography walk, capturing the beauty of your surroundings.\n",
      "12. Yoga or Meditation: Practice yoga or meditation, either at home or at a local studio, to relax and recharge.\n",
      "13. Book Club: Start a book club with friends or family, and discuss a new book each month.\n",
      "14. Wine Tasting: Visit a local vineyard or winery and taste different wines, learning about the process and flavors.\n",
      "15. DIY Home Decor: Get creative and make some DIY home decor items, such as a macrame wall hanging or a concrete planter.\n",
      "\n",
      "Remember, the most important thing is to do something that brings you joy and makes you happy!\n",
      "</s>\n",
      "<s>[INST] \n",
      "Which of these would be good for my health?\n",
      " [/INST]\n",
      "\n"
     ]
    }
   ],
   "source": [
    "chat_prompt = f\"\"\"\n",
    "<s>[INST] {prompt_1} [/INST]\n",
    "{response_1}\n",
    "</s>\n",
    "<s>[INST] {prompt_2} [/INST]\n",
    "\"\"\"\n",
    "print(chat_prompt)"
   ]
  },
  {
   "cell_type": "markdown",
   "metadata": {},
   "source": [
    "Since we added instruction tags ourselves, we set `add_inst=False` to avoid adding again inside the helper function."
   ]
  },
  {
   "cell_type": "code",
   "execution_count": 26,
   "metadata": {},
   "outputs": [
    {
     "name": "stdout",
     "output_type": "stream",
     "text": [
      "Prompt:\n",
      "\n",
      "<s>[INST] \n",
      "    What are fun activities I can do this weekend?\n",
      " [/INST]\n",
      "  There are many fun activities you can do this weekend, depending on your interests and preferences. Here are some ideas:\n",
      "\n",
      "1. Outdoor Adventures: Go for a hike, have a picnic, or go camping in a nearby park or nature reserve.\n",
      "2. Cultural Events: Attend a concert, play, or festival in your area. Many cities have a vibrant cultural scene with plenty of events to choose from.\n",
      "3. Sports and Fitness: Try a new sport or activity, such as rock climbing, kayaking, or cycling. Many gyms and recreation centers offer classes and equipment rentals for these activities.\n",
      "4. Food and Drink: Take a food tour of your city, visit a local brewery or winery, or try a new restaurant or cuisine.\n",
      "5. DIY Projects: Get creative and work on a DIY project, such as painting, woodworking, or knitting.\n",
      "6. Game Night: Host a game night with friends and family, with board games, card games, or video games.\n",
      "7. Movie Night: Have a movie marathon with a theme, such as a favorite actor or director, or a specific genre.\n",
      "8. Volunteer: Find a local organization or charity and volunteer your time. This can be a great way to give back to your community and meet new people.\n",
      "9. Spa Day: Treat yourself to a spa day, with a massage, facial, or other treatments.\n",
      "10. Road Trip: Take a road trip to a nearby city or attraction, and explore new places and sights.\n",
      "11. Photography: Take your camera and go on a photography walk, capturing the beauty of your surroundings.\n",
      "12. Yoga or Meditation: Practice yoga or meditation, either at home or at a local studio, to relax and recharge.\n",
      "13. Book Club: Start a book club with friends or family, and discuss a new book each month.\n",
      "14. Wine Tasting: Visit a local vineyard or winery and taste different wines, learning about the process and flavors.\n",
      "15. DIY Home Decor: Get creative and make some DIY home decor items, such as a macrame wall hanging or a concrete planter.\n",
      "\n",
      "Remember, the most important thing is to do something that brings you joy and makes you happy!\n",
      "</s>\n",
      "<s>[INST] \n",
      "Which of these would be good for my health?\n",
      " [/INST]\n",
      "\n",
      "\n",
      "model: togethercomputer/llama-2-7b-chat\n"
     ]
    }
   ],
   "source": [
    "response_2 = llama(chat_prompt,\n",
    "                 add_inst=False,\n",
    "                 verbose=True)"
   ]
  },
  {
   "cell_type": "code",
   "execution_count": 27,
   "metadata": {},
   "outputs": [
    {
     "name": "stdout",
     "output_type": "stream",
     "text": [
      "  It's great that you're thinking about your health! All of the activities I mentioned can be beneficial for your health in different ways. Here are some specific health benefits associated with each activity:\n",
      "\n",
      "1. Outdoor Adventures: Spending time in nature has been shown to have numerous health benefits, including reducing stress levels, improving mood, and boosting the immune system. Being physically active outdoors can also help improve cardiovascular health and overall fitness.\n",
      "2. Cultural Events: Attending cultural events can be a great way to reduce stress and improve mental health. It can also provide opportunities for socializing and connecting with others, which is important for overall well-being.\n",
      "3. Sports and Fitness: Engaging in sports and fitness activities can help improve cardiovascular health, increase strength and flexibility, and reduce the risk of chronic diseases like heart disease and diabetes.\n",
      "4. Food and Drink: Eating a variety of nutritious foods and drinks can help support overall health and well-being. A healthy diet can provide the body with the necessary nutrients and energy to function properly, and can also help reduce the risk of chronic diseases.\n",
      "5. DIY Projects: Engaging in DIY projects can be a great way to reduce stress and improve mental health. It can also provide opportunities for creative expression and self-expression, which can be beneficial for overall well-being.\n",
      "6. Game Night: Playing games with friends and family can be a fun and social way to reduce stress and improve mental health. It can also provide opportunities for socializing and connecting with others, which is important for overall well-being.\n",
      "7. Movie Night: Watching movies can be a relaxing and enjoyable way to unwind and reduce stress. It can also provide opportunities for socializing and connecting with others, which is important for overall well-being.\n",
      "8. Volunteer: Volunteering can be a great way to improve mental health and overall well-being. Helping others and giving back to the community can provide a sense of purpose and fulfillment, which can be beneficial for overall health.\n",
      "9. Spa Day: Treating yourself to a spa day can be a great way to reduce stress and improve mental health. It can also provide opportunities for relaxation and self-care, which are important for overall well-being.\n",
      "10. Yoga or Meditation: Practicing yoga or meditation can be a great way to reduce stress and improve mental health. These activities can help promote relaxation and mindfulness, which can be beneficial for overall well-being.\n",
      "\n",
      "Ultimately, the best activity for your health will depend on your individual needs and preferences. It's important to find activities that you enjoy and that make you feel good, both physically and mentally.\n"
     ]
    }
   ],
   "source": [
    "print(response_2)"
   ]
  },
  {
   "cell_type": "markdown",
   "metadata": {},
   "source": [
    "As you can see, llama remembered the previous conversation and provided a follow-up answer. "
   ]
  },
  {
   "cell_type": "markdown",
   "metadata": {},
   "source": [
    "## Use llama chat helper function"
   ]
  },
  {
   "cell_type": "markdown",
   "metadata": {},
   "source": [
    "The helper function automatically wraps the prompts and responses with appropriate tags."
   ]
  },
  {
   "cell_type": "markdown",
   "metadata": {},
   "source": []
  },
  {
   "cell_type": "code",
   "execution_count": 28,
   "metadata": {},
   "outputs": [],
   "source": [
    "from utils import llama_chat"
   ]
  },
  {
   "cell_type": "code",
   "execution_count": 29,
   "metadata": {},
   "outputs": [],
   "source": [
    "prompt_1 = \"\"\"\n",
    "    What are fun activities I can do this weekend?\n",
    "\"\"\"\n",
    "response_1 = llama(prompt_1)"
   ]
  },
  {
   "cell_type": "code",
   "execution_count": 30,
   "metadata": {},
   "outputs": [],
   "source": [
    "prompt_2 = \"\"\"\n",
    "Which of these would be good for my health?\n",
    "\"\"\""
   ]
  },
  {
   "cell_type": "code",
   "execution_count": 31,
   "metadata": {},
   "outputs": [],
   "source": [
    "prompts = [prompt_1,prompt_2]\n",
    "responses = [response_1]"
   ]
  },
  {
   "cell_type": "code",
   "execution_count": 32,
   "metadata": {},
   "outputs": [
    {
     "name": "stdout",
     "output_type": "stream",
     "text": [
      "Prompt:\n",
      "<s>[INST] \n",
      "    What are fun activities I can do this weekend?\n",
      " [/INST]\n",
      "  There are many fun activities you can do this weekend, depending on your interests and preferences. Here are some ideas:\n",
      "\n",
      "1. Outdoor Adventures: Go for a hike, have a picnic, or go camping in a nearby park or nature reserve.\n",
      "2. Cultural Events: Attend a concert, play, or festival in your area. Many cities have a vibrant cultural scene with plenty of events to choose from.\n",
      "3. Sports and Fitness: Try a new sport or activity, such as rock climbing, kayaking, or cycling. Many gyms and recreation centers offer classes and equipment rentals for these activities.\n",
      "4. Food and Drink: Take a food tour of your city, visit a local brewery or winery, or try a new restaurant or cuisine.\n",
      "5. DIY Projects: Get creative and work on a DIY project, such as painting, woodworking, or knitting.\n",
      "6. Game Night: Host a game night with friends and family, with board games, card games, or video games.\n",
      "7. Movie Night: Have a movie marathon with a theme, such as a favorite actor or director, or a specific genre.\n",
      "8. Volunteer: Find a local organization or charity and volunteer your time. This can be a great way to give back to your community and meet new people.\n",
      "9. Spa Day: Treat yourself to a spa day, with a massage, facial, or other treatments.\n",
      "10. Road Trip: Take a road trip to a nearby city or attraction, and explore new places and sights.\n",
      "11. Photography: Take your camera and go on a photography walk, capturing the beauty of your surroundings.\n",
      "12. Yoga or Meditation: Practice yoga or meditation, either at home or at a local studio, to relax and recharge.\n",
      "13. Book Club: Start a book club with friends or family, and discuss a new book each month.\n",
      "14. Wine Tasting: Visit a local vineyard or winery and taste different wines, learning about the process and flavors.\n",
      "15. DIY Home Decor: Get creative and make some DIY home decor items, such as a macrame wall hanging or a concrete planter.\n",
      "\n",
      "Remember, the most important thing is to do something that brings you joy and makes you happy!\n",
      " </s><s>[INST] \n",
      "\n",
      "Which of these would be good for my health?\n",
      "\n",
      " [/INST]\n",
      "\n",
      "model: togethercomputer/llama-2-7b-chat\n"
     ]
    }
   ],
   "source": [
    "# Pass prompts and responses to llama_chat function\n",
    "response_2 = llama_chat(prompts,responses,verbose=True)"
   ]
  },
  {
   "cell_type": "code",
   "execution_count": 33,
   "metadata": {},
   "outputs": [
    {
     "name": "stdout",
     "output_type": "stream",
     "text": [
      "  It's great that you're thinking about your health! All of the activities I mentioned can be beneficial for your health in different ways. Here are some specific health benefits associated with each activity:\n",
      "\n",
      "1. Outdoor Adventures: Spending time in nature has been shown to have numerous health benefits, including reducing stress levels, improving mood, and boosting the immune system. Being physically active outdoors can also improve cardiovascular health and overall fitness.\n",
      "2. Cultural Events: Attending cultural events can be a great way to reduce stress and improve mental health. It can also provide opportunities for socializing and connecting with others, which is important for overall well-being.\n",
      "3. Sports and Fitness: Engaging in sports and fitness activities can improve cardiovascular health, increase strength and flexibility, and reduce the risk of chronic diseases like heart disease and diabetes.\n",
      "4. Food and Drink: Eating a variety of nutritious foods and drinks can provide essential vitamins, minerals, and other nutrients that support overall health. Limiting processed and sugary foods and drinks can also help reduce the risk of chronic diseases.\n",
      "5. DIY Projects: Engaging in DIY projects can provide opportunities for creative expression and relaxation, which can help reduce stress and improve mental health. It can also provide a sense of accomplishment and self-esteem.\n",
      "6. Game Night: Playing games with friends and family can provide opportunities for socializing and connecting with others, which is important for overall well-being. It can also be a fun and relaxing way to spend time together.\n",
      "7. Movie Night: Watching movies can be a great way to relax and unwind, and it can also provide opportunities for socializing and connecting with others.\n",
      "8. Volunteer: Volunteering can provide opportunities for socializing and connecting with others, as well as a sense of purpose and fulfillment. It can also help reduce stress and improve mental health.\n",
      "9. Spa Day: Treating yourself to a spa day can provide opportunities for relaxation and self-care, which can help reduce stress and improve mental health. It can also help improve overall well-being and reduce muscle tension.\n",
      "10. Road Trip: Taking a road trip can provide opportunities for adventure and exploration, which can help improve mental health and overall well-being. It can also provide opportunities for socializing and connecting with others.\n",
      "11. Photography: Engaging in photography can provide opportunities for creative expression and relaxation, which can help reduce stress and improve mental health. It can also provide a sense of accomplishment and self-esteem.\n",
      "12. Yoga or Meditation: Practicing yoga or meditation can help reduce stress and improve mental health by promoting relaxation and mindfulness. It can also improve overall well-being and reduce muscle tension.\n",
      "13. Book Club: Engaging in a book club can provide opportunities for socializing and connecting with others, as well as a sense of intellectual stimulation and personal growth.\n",
      "14. Wine Tasting: Participating in wine tasting can provide opportunities for socializing and connecting with others, as well as a sense of cultural and intellectual stimulation.\n",
      "15. DIY Home Decor: Engaging in DIY home decor projects can provide opportunities for creative expression and relaxation, which can help reduce stress and improve mental health. It can also provide a sense of accomplishment and self-esteem.\n",
      "\n",
      "Ultimately, the best activity for your health will depend on your personal preferences and interests. It's important to find activities that you enjoy and that provide opportunities for socializing, relaxation, and self-care.\n"
     ]
    }
   ],
   "source": [
    "print(response_2)"
   ]
  },
  {
   "cell_type": "code",
   "execution_count": 34,
   "metadata": {},
   "outputs": [
    {
     "name": "stdout",
     "output_type": "stream",
     "text": [
      "Prompt:\n",
      "<s>[INST] \n",
      "    What are fun activities I can do this weekend?\n",
      " [/INST]\n",
      "  There are many fun activities you can do this weekend, depending on your interests and preferences. Here are some ideas:\n",
      "\n",
      "1. Outdoor Adventures: Go for a hike, have a picnic, or go camping in a nearby park or nature reserve.\n",
      "2. Cultural Events: Attend a concert, play, or festival in your area. Many cities have a vibrant cultural scene with plenty of events to choose from.\n",
      "3. Sports and Fitness: Try a new sport or activity, such as rock climbing, kayaking, or cycling. Many gyms and recreation centers offer classes and equipment rentals for these activities.\n",
      "4. Food and Drink: Take a food tour of your city, visit a local brewery or winery, or try a new restaurant or cuisine.\n",
      "5. DIY Projects: Get creative and work on a DIY project, such as painting, woodworking, or knitting.\n",
      "6. Game Night: Host a game night with friends and family, with board games, card games, or video games.\n",
      "7. Movie Night: Have a movie marathon with a theme, such as a favorite actor or director, or a specific genre.\n",
      "8. Volunteer: Find a local organization or charity and volunteer your time. This can be a great way to give back to your community and meet new people.\n",
      "9. Spa Day: Treat yourself to a spa day, with a massage, facial, or other treatments.\n",
      "10. Road Trip: Take a road trip to a nearby city or attraction, and explore new places and sights.\n",
      "11. Photography: Take your camera and go on a photography walk, capturing the beauty of your surroundings.\n",
      "12. Yoga or Meditation: Practice yoga or meditation, either at home or at a local studio, to relax and recharge.\n",
      "13. Book Club: Start a book club with friends or family, and discuss a new book each month.\n",
      "14. Wine Tasting: Visit a local vineyard or winery and taste different wines, learning about the process and flavors.\n",
      "15. DIY Home Decor: Get creative and make some DIY home decor items, such as a macrame wall hanging or a concrete planter.\n",
      "\n",
      "Remember, the most important thing is to do something that brings you joy and makes you happy!\n",
      " </s><s>[INST] \n",
      "\n",
      "Which of these would be good for my health?\n",
      "\n",
      " [/INST]\n",
      "  It's great that you're thinking about your health! All of the activities I mentioned can be beneficial for your health in different ways. Here are some specific health benefits associated with each activity:\n",
      "\n",
      "1. Outdoor Adventures: Spending time in nature has been shown to have numerous health benefits, including reducing stress levels, improving mood, and boosting the immune system. Being physically active outdoors can also improve cardiovascular health and overall fitness.\n",
      "2. Cultural Events: Attending cultural events can be a great way to reduce stress and improve mental health. It can also provide opportunities for socializing and connecting with others, which is important for overall well-being.\n",
      "3. Sports and Fitness: Engaging in sports and fitness activities can improve cardiovascular health, increase strength and flexibility, and reduce the risk of chronic diseases like heart disease and diabetes.\n",
      "4. Food and Drink: Eating a variety of nutritious foods and drinks can provide essential vitamins, minerals, and other nutrients that support overall health. Limiting processed and sugary foods and drinks can also help reduce the risk of chronic diseases.\n",
      "5. DIY Projects: Engaging in DIY projects can provide opportunities for creative expression and relaxation, which can help reduce stress and improve mental health. It can also provide a sense of accomplishment and self-esteem.\n",
      "6. Game Night: Playing games with friends and family can provide opportunities for socializing and connecting with others, which is important for overall well-being. It can also be a fun and relaxing way to spend time together.\n",
      "7. Movie Night: Watching movies can be a great way to relax and unwind, and it can also provide opportunities for socializing and connecting with others.\n",
      "8. Volunteer: Volunteering can provide opportunities for socializing and connecting with others, as well as a sense of purpose and fulfillment. It can also help reduce stress and improve mental health.\n",
      "9. Spa Day: Treating yourself to a spa day can provide opportunities for relaxation and self-care, which can help reduce stress and improve mental health. It can also help improve overall well-being and reduce muscle tension.\n",
      "10. Road Trip: Taking a road trip can provide opportunities for adventure and exploration, which can help improve mental health and overall well-being. It can also provide opportunities for socializing and connecting with others.\n",
      "11. Photography: Engaging in photography can provide opportunities for creative expression and relaxation, which can help reduce stress and improve mental health. It can also provide a sense of accomplishment and self-esteem.\n",
      "12. Yoga or Meditation: Practicing yoga or meditation can help reduce stress and improve mental health by promoting relaxation and mindfulness. It can also improve overall well-being and reduce muscle tension.\n",
      "13. Book Club: Engaging in a book club can provide opportunities for socializing and connecting with others, as well as a sense of intellectual stimulation and personal growth.\n",
      "14. Wine Tasting: Participating in wine tasting can provide opportunities for socializing and connecting with others, as well as a sense of cultural and intellectual stimulation.\n",
      "15. DIY Home Decor: Engaging in DIY home decor projects can provide opportunities for creative expression and relaxation, which can help reduce stress and improve mental health. It can also provide a sense of accomplishment and self-esteem.\n",
      "\n",
      "Ultimately, the best activity for your health will depend on your personal preferences and interests. It's important to find activities that you enjoy and that provide opportunities for socializing, relaxation, and self-care.\n",
      " </s><s>[INST] \n",
      "Can you pick three activities that are good with friends?\n",
      " [/INST]\n",
      "\n",
      "model: togethercomputer/llama-2-7b-chat\n"
     ]
    }
   ],
   "source": [
    "# replace prompt_3 with your own question!\n",
    "prompt_3 = \"Can you pick three activities that are good with friends?\"\n",
    "prompts = [prompt_1, prompt_2, prompt_3]\n",
    "responses = [response_1, response_2]\n",
    "\n",
    "response_3 = llama_chat(prompts, responses, verbose=True)"
   ]
  },
  {
   "cell_type": "code",
   "execution_count": 35,
   "metadata": {},
   "outputs": [
    {
     "name": "stdout",
     "output_type": "stream",
     "text": [
      "  Of course! Here are three activities that are great to do with friends:\n",
      "\n",
      "1. Game Night: Hosting a game night with friends can be a fun and relaxing way to spend time together. You can choose a variety of board games, card games, or video games that everyone will enjoy. It's a great way to socialize, have some friendly competition, and create memories with your friends.\n",
      "2. Movie Night: Having a movie night with friends is another great way to spend time together. You can choose a movie that everyone will enjoy, or let each person pick their favorite movie to watch. You can make it even more fun by making some popcorn or other snacks, and having a cozy movie night at home or at a local movie theater.\n",
      "3. Outdoor Adventure: If you and your friends are the adventurous type, consider going on an outdoor adventure together. This could be hiking, biking, kayaking, or any other outdoor activity that you're all interested in. It's a great way to get some exercise, enjoy nature, and spend time together in a fun and active way.\n",
      "\n",
      "I hope these suggestions help! Let me know if you have any other questions.\n"
     ]
    }
   ],
   "source": [
    "print(response_3)"
   ]
  },
  {
   "cell_type": "code",
   "execution_count": null,
   "metadata": {},
   "outputs": [],
   "source": []
  }
 ],
 "metadata": {
  "kernelspec": {
   "display_name": "Python 3",
   "language": "python",
   "name": "python3"
  },
  "language_info": {
   "codemirror_mode": {
    "name": "ipython",
    "version": 3
   },
   "file_extension": ".py",
   "mimetype": "text/x-python",
   "name": "python",
   "nbconvert_exporter": "python",
   "pygments_lexer": "ipython3",
   "version": "3.9.6"
  }
 },
 "nbformat": 4,
 "nbformat_minor": 2
}
